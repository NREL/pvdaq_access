{
 "cells": [
  {
   "cell_type": "markdown",
   "id": "adjustable-calculation",
   "metadata": {},
   "source": [
    "## Overview\n",
    "THis notebook is a demonstration of how to download data from the OEDI PVDAQ data archives. It is focused on the process for downloading data from the PV Solar Bounty Data Prize sites, that utilize a slightly different archive architecture thatn the rest of the PVDAQ archives. For more information on how to download the other datasets within the PVDAQ archives see the code within the main.py module located inthis same repository.\n",
    "\n",
    "The PVDAQ Data Archives resides in an Amazon Web Services Simple Storage Solution (S3) bucket. As such, there are modules available to provide you access to this data easily throughthose APIs. This part of the module will focus on the Boto3 module for performing the download.Since this is a series of public datasets, the method does not require the passing of authorization keys."
   ]
  },
  {
   "cell_type": "code",
   "execution_count": null,
   "id": "unable-paper",
   "metadata": {},
   "outputs": [],
   "source": [
    "import os\n",
    "import boto3\n",
    "import botocore\n",
    "from botocore.handlers import disable_signing"
   ]
  },
  {
   "cell_type": "markdown",
   "id": "monthly-reconstruction",
   "metadata": {},
   "source": [
    "# Setup\n",
    "The first step is to indicate which system you are wishing to access and where you want the data to be stored. As part of the pvdaq_access module this can be done by passing parameters, but here we will use direct user query. For a list of the prize sites please follow the link [PV Solar Data Prize Sites](https://data.openei.org/s3_viewer?bucket=oedi-data-lake&prefix=pvdaq%2F2023-solar-data-prize%2F)"
   ]
  },
  {
   "cell_type": "code",
   "execution_count": null,
   "id": "celtic-contamination",
   "metadata": {
    "scrolled": true
   },
   "outputs": [],
   "source": [
    "site = input(\"Which Solar Bounty Data Prize Site do you wish to access? Enter thier unique ID number: \")\n",
    "if site:\n",
    "    path = input(\"Where do you want to download the data to? Enter full path: \")\n",
    "    if path:\n",
    "        if os.path.isdir(path):\n",
    "            print (\"Site \" + site + \" time-series data to be downloaded to \" + path)\n",
    "        else:\n",
    "            raise OSError('Path ' + path + \" does not exists. Please add or cange path and restart.\")\n"
   ]
  },
  {
   "cell_type": "markdown",
   "id": "comprehensive-importance",
   "metadata": {},
   "source": [
    "# Downloading the Data\n",
    "This next section will connect to the S3 resource for the OEDI and PV Solar Data Bounty sites and pull all the data down from the site to your indicated location."
   ]
  },
  {
   "cell_type": "code",
   "execution_count": null,
   "id": "expressed-rough",
   "metadata": {},
   "outputs": [],
   "source": [
    "s3 = boto3.resource(\"s3\")\n",
    "s3.meta.client.meta.events.register(\"choose-signer.s3.*\", disable_signing)\n",
    "bucket = s3.Bucket(\"oedi-data-lake\")\n",
    "print (\"Beginning download process \")\n",
    "\n",
    "#Find each target file in buckets\n",
    "target_dir = site + '_OEDI'\n",
    "prefix =  \"pvdaq/2023-solar-data-prize/\" +  target_dir + \"/data/\"\n",
    "objects = bucket.objects.filter(Prefix=prefix)\n",
    "\n",
    "for obj in objects:\n",
    "    if obj.key == prefix:\n",
    "        continue            \n",
    "    try:\n",
    "        bucket.download_file(obj.key, os.path.join(path, os.path.basename(obj.key)).replace(\"\\\\\", \"/\"))\n",
    "    except botocore.exceptions.ClientError as e:\n",
    "        print ('ERROR: Boto3 exception ' + str(e))\n",
    "    else:\n",
    "        print ('File ' + os.path.join(path, os.path.basename(obj.key)) + \" downloaded successfully.\")\n",
    "            \n"
   ]
  },
  {
   "cell_type": "markdown",
   "id": "affiliated-brake",
   "metadata": {},
   "source": [
    "# A Quick Check of a File"
   ]
  },
  {
   "cell_type": "code",
   "execution_count": null,
   "id": "median-venezuela",
   "metadata": {},
   "outputs": [],
   "source": [
    "print (\"File download results\")\n",
    "files = os.listdir(path)\n",
    "for file in files:\n",
    "    print(file)\n",
    "\n",
    "which_file = input(\"Which file from your download would you like to check? \")"
   ]
  },
  {
   "cell_type": "markdown",
   "id": "assigned-newton",
   "metadata": {},
   "source": [
    "### Parse file into dataframe and examine info"
   ]
  },
  {
   "cell_type": "code",
   "execution_count": null,
   "id": "supposed-certification",
   "metadata": {},
   "outputs": [],
   "source": [
    "import pandas as pd\n",
    "#Read in file\n",
    "try: \n",
    "    df = pd.read_csv(path + \"/\" + which_file)\n",
    "except FileNotFoundError:\n",
    "    print(\"File not found.\")\n",
    "except pd.errors.EmptyDataError:\n",
    "    print(\"No data\")\n",
    "except pd.errors.ParserError:\n",
    "    print(\"Parse error\")\n",
    "else:\n",
    "    df.set_index('measured_on', inplace=True)\n",
    "    #extract file info\n",
    "    df.info()"
   ]
  },
  {
   "cell_type": "markdown",
   "id": "daily-deviation",
   "metadata": {},
   "source": [
    "### Perform a quick plot to examine data"
   ]
  },
  {
   "cell_type": "code",
   "execution_count": null,
   "id": "dental-seller",
   "metadata": {},
   "outputs": [],
   "source": [
    "import matplotlib.pyplot as plt\n",
    "\n",
    "#Set the plot values\n",
    "plot_cols = ['poa_irradiance_o_149574']\n",
    "\n",
    "# Add labels and title\n",
    "axes = df[plot_cols].plot(marker='.', alpha=0.5, figsize=(11, 9))\n",
    "#Rotate labels               \n",
    "plt.xticks(rotation=45)    \n",
    "# Show the plot\n",
    "plt.xlabel('measured_on')\n",
    "plt.ylabel('poa_irradiance_o_149574')\n",
    "plt.title('Time Series data check')\n",
    "plt.show()"
   ]
  },
  {
   "cell_type": "code",
   "execution_count": null,
   "id": "equivalent-willow",
   "metadata": {},
   "outputs": [],
   "source": []
  }
 ],
 "metadata": {
  "kernelspec": {
   "display_name": "pvdrdb_tools",
   "language": "python",
   "name": "pvdrdb_tools"
  },
  "language_info": {
   "codemirror_mode": {
    "name": "ipython",
    "version": 3
   },
   "file_extension": ".py",
   "mimetype": "text/x-python",
   "name": "python",
   "nbconvert_exporter": "python",
   "pygments_lexer": "ipython3",
   "version": "3.10.9"
  }
 },
 "nbformat": 4,
 "nbformat_minor": 5
}
