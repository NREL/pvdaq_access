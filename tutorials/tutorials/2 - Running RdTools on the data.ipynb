{
 "cells": [
  {
   "cell_type": "markdown",
   "metadata": {},
   "source": [
    "# 2 - Comparison Run\n",
    "\n",
    "**Objectives:**\n",
    "1. Read in necessary mass and energy data\n",
    "2. Run\n",
    "3. Generate plots "
   ]
  },
  {
   "cell_type": "markdown",
   "metadata": {},
   "source": [
    "## 1. Setup and Create PV ICE Simulation Object"
   ]
  },
  {
   "cell_type": "code",
   "execution_count": null,
   "metadata": {},
   "outputs": [],
   "source": [
    "# if running on google colab, uncomment the next line and execute this cell to install the dependencies and prevent \"ModuleNotFoundError\" in later cells:\n",
    "!pip install git+https://github.com/NREL/PV_ICE.git@development"
   ]
  },
  {
   "cell_type": "code",
   "execution_count": null,
   "metadata": {},
   "outputs": [],
   "source": [
    "import PV_ICE\n",
    "import os\n",
    "PV_ICE.__version__"
   ]
  },
  {
   "cell_type": "code",
   "execution_count": null,
   "metadata": {},
   "outputs": [],
   "source": [
    "pwd"
   ]
  },
  {
   "cell_type": "code",
   "execution_count": null,
   "metadata": {},
   "outputs": [],
   "source": [
    "testfolder = 'Second'\n",
    "\n",
    "if not os.path.exists(testfolder):\n",
    "    os.makedirs(testfolder)"
   ]
  },
  {
   "cell_type": "code",
   "execution_count": null,
   "metadata": {},
   "outputs": [],
   "source": [
    "r1 = PV_ICE.Simulation(name='Sim2', path=testfolder, baselinepath='/content'); # Is it possible to define more than one simulation here?"
   ]
  },
  {
   "cell_type": "markdown",
   "metadata": {},
   "source": [
    "## 2. Modify the files and add to the folder now \n",
    "\n",
    "Let's discuss as a group what would be a good scenario comparison to define."
   ]
  },
  {
   "cell_type": "code",
   "execution_count": 1,
   "metadata": {},
   "outputs": [],
   "source": [
    "#from google.colab import files\n",
    "#files.upload()"
   ]
  },
  {
   "cell_type": "markdown",
   "metadata": {},
   "source": [
    "## 3. Create standard and modified scenarios\n"
   ]
  },
  {
   "cell_type": "code",
   "execution_count": null,
   "metadata": {},
   "outputs": [],
   "source": [
    "r1.createScenario(name='standard', \n",
    "                  massmodulefile=r'baseline_modules_mass_US.csv', \n",
    "                  energymodulefile = 'baseline_modules_energy.csv' )\n",
    "\n",
    "r1.scenario['standard'].addMaterial(materialname='glass', \n",
    "                                    massmatfile='/content/baseline_material_mass_glass.csv', \n",
    "                                    energymatfile='/content/baseline_material_energy_glass.csv')\n",
    "\n",
    "r1.scenario['standard'].addMaterial(materialname='glass', \n",
    "                                    massmatfile='/content/baseline_material_mass_glass.csv', \n",
    "                                    energymatfile='/content/baseline_material_energy_glass.csv')"
   ]
  },
  {
   "cell_type": "code",
   "execution_count": null,
   "metadata": {},
   "outputs": [],
   "source": [
    "r1.createScenario(name='modified', \n",
    "                  massmodulefile=r'baseline_modules_mass_US_modified.csv', \n",
    "                  energymodulefile = 'baseline_modules_energy.csv' )\n",
    "\n",
    "r1.scenario['modified'].addMaterial(materialname='glass', \n",
    "                                    massmatfile='/content/baseline_material_mass_glass_modified.csv', \n",
    "                                    energymatfile='/content/baseline_material_energy_glass.csv')\n",
    "\n",
    "r1.scenario['modified'].addMaterial(materialname='silicon', \n",
    "                                    massmatfile='/content/baseline_material_mass_glass_modified.csv', \n",
    "                                    energymatfile='/content/baseline_material_energy_glass.csv')"
   ]
  },
  {
   "cell_type": "markdown",
   "metadata": {},
   "source": [
    "Alternatively, use one of the PV_ICE support functions to modify \n",
    "\n",
    "* modifyScenario\n",
    "* modifyScenario Energy\n",
    "\n",
    "or \n",
    "* scenMod_PerfectManufacturing\n",
    "* scenMod_noCircularity\n",
    "* scenMod_perfectRecycling\n",
    "* scenMod_IRENIFY\n"
   ]
  },
  {
   "cell_type": "markdown",
   "metadata": {},
   "source": [
    "## 4. Run the flows "
   ]
  },
  {
   "cell_type": "code",
   "execution_count": null,
   "metadata": {},
   "outputs": [],
   "source": [
    "r1.calculateFlows()"
   ]
  },
  {
   "cell_type": "markdown",
   "metadata": {},
   "source": [
    "## 5. Aggregate Results"
   ]
  },
  {
   "cell_type": "code",
   "execution_count": null,
   "metadata": {},
   "outputs": [],
   "source": [
    "USyearly, UScum = r1.aggregateResults()"
   ]
  },
  {
   "cell_type": "markdown",
   "metadata": {},
   "source": [
    "## 6. Save Simulation\n"
   ]
  },
  {
   "cell_type": "code",
   "execution_count": null,
   "metadata": {},
   "outputs": [],
   "source": [
    "r1.saveSimulation()"
   ]
  },
  {
   "cell_type": "markdown",
   "metadata": {},
   "source": [
    "## 7. Use internal plotting functions to plot results"
   ]
  },
  {
   "cell_type": "markdown",
   "metadata": {},
   "source": [
    "From this list, select the one that fits your study and select the type of plotting method. There are various plotting options:\n",
    "* `plotScenariosComparison`\n",
    "* `plotMaterialComparisonAcrossScenarios`\n",
    "* `plotMetricResults`: You can select the following keyword options: 'VirginStock', 'WasteALL', 'WasteEOL', 'WasteMFG'\n",
    "* `plotMaterialResults`\n",
    "* `plotInstalledCapacityResults`"
   ]
  },
  {
   "cell_type": "markdown",
   "metadata": {},
   "source": [
    "You can also view all the keywords you can use by calling the function without argumnets, or by printing the keys to the module data or the material data"
   ]
  },
  {
   "cell_type": "code",
   "execution_count": null,
   "metadata": {},
   "outputs": [],
   "source": [
    "r1.plotMetricResults()"
   ]
  },
  {
   "cell_type": "code",
   "execution_count": null,
   "metadata": {},
   "outputs": [],
   "source": [
    "r1.plotScenariosComparison()"
   ]
  },
  {
   "cell_type": "code",
   "execution_count": null,
   "metadata": {},
   "outputs": [],
   "source": [
    "r1.plotMaterialComparisonAcrossScenarios(material='silicon', keyword='mat_virgin_eff')"
   ]
  },
  {
   "cell_type": "code",
   "execution_count": null,
   "metadata": {},
   "outputs": [],
   "source": [
    "r1.plotMaterialResults(keyword='VirginStock')"
   ]
  },
  {
   "cell_type": "code",
   "execution_count": null,
   "metadata": {},
   "outputs": [],
   "source": [
    "r1.plotInstalledCapacityResults()"
   ]
  }
 ],
 "metadata": {
  "kernelspec": {
   "display_name": "Python 3 (ipykernel)",
   "language": "python",
   "name": "python3"
  },
  "language_info": {
   "codemirror_mode": {
    "name": "ipython",
    "version": 3
   },
   "file_extension": ".py",
   "mimetype": "text/x-python",
   "name": "python",
   "nbconvert_exporter": "python",
   "pygments_lexer": "ipython3",
   "version": "3.11.4"
  },
  "vscode": {
   "interpreter": {
    "hash": "14c04630f1cd445b2532d35c77825134bfcafda47af70d0b9c2b5023b1f357a5"
   }
  }
 },
 "nbformat": 4,
 "nbformat_minor": 2
}
